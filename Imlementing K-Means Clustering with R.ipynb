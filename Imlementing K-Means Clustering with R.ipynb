{
 "cells": [
  {
   "cell_type": "markdown",
   "metadata": {},
   "source": [
    "let view the data then we can analyse."
   ]
  },
  {
   "cell_type": "code",
   "execution_count": 39,
   "metadata": {},
   "outputs": [
    {
     "name": "stdout",
     "output_type": "stream",
     "text": [
      " num [1:50, 1:4] 13.2 10 8.1 8.8 9 7.9 3.3 5.9 15.4 17.4 ...\n",
      " - attr(*, \"dimnames\")=List of 2\n",
      "  ..$ : chr [1:50] \"Alabama\" \"Alaska\" \"Arizona\" \"Arkansas\" ...\n",
      "  ..$ : chr [1:4] \"Murder\" \"Assault\" \"UrbanPop\" \"Rape\"\n"
     ]
    },
    {
     "data": {
      "text/html": [
       "<table>\n",
       "<thead><tr><th></th><th scope=col>Murder</th><th scope=col>Assault</th><th scope=col>UrbanPop</th><th scope=col>Rape</th></tr></thead>\n",
       "<tbody>\n",
       "\t<tr><th scope=row>Alabama</th><td>13.2</td><td>236 </td><td>58  </td><td>21.2</td></tr>\n",
       "\t<tr><th scope=row>Alaska</th><td>10.0</td><td>263 </td><td>48  </td><td>44.5</td></tr>\n",
       "\t<tr><th scope=row>Arizona</th><td> 8.1</td><td>294 </td><td>80  </td><td>31.0</td></tr>\n",
       "\t<tr><th scope=row>Arkansas</th><td> 8.8</td><td>190 </td><td>50  </td><td>19.5</td></tr>\n",
       "\t<tr><th scope=row>California</th><td> 9.0</td><td>276 </td><td>91  </td><td>40.6</td></tr>\n",
       "\t<tr><th scope=row>Colorado</th><td> 7.9</td><td>204 </td><td>78  </td><td>38.7</td></tr>\n",
       "\t<tr><th scope=row>Connecticut</th><td> 3.3</td><td>110 </td><td>77  </td><td>11.1</td></tr>\n",
       "\t<tr><th scope=row>Delaware</th><td> 5.9</td><td>238 </td><td>72  </td><td>15.8</td></tr>\n",
       "\t<tr><th scope=row>Florida</th><td>15.4</td><td>335 </td><td>80  </td><td>31.9</td></tr>\n",
       "\t<tr><th scope=row>Georgia</th><td>17.4</td><td>211 </td><td>60  </td><td>25.8</td></tr>\n",
       "\t<tr><th scope=row>Hawaii</th><td> 5.3</td><td> 46 </td><td>83  </td><td>20.2</td></tr>\n",
       "\t<tr><th scope=row>Idaho</th><td> 2.6</td><td>120 </td><td>54  </td><td>14.2</td></tr>\n",
       "\t<tr><th scope=row>Illinois</th><td>10.4</td><td>249 </td><td>83  </td><td>24.0</td></tr>\n",
       "\t<tr><th scope=row>Indiana</th><td> 7.2</td><td>113 </td><td>65  </td><td>21.0</td></tr>\n",
       "\t<tr><th scope=row>Iowa</th><td> 2.2</td><td> 56 </td><td>57  </td><td>11.3</td></tr>\n",
       "\t<tr><th scope=row>Kansas</th><td> 6.0</td><td>115 </td><td>66  </td><td>18.0</td></tr>\n",
       "\t<tr><th scope=row>Kentucky</th><td> 9.7</td><td>109 </td><td>52  </td><td>16.3</td></tr>\n",
       "\t<tr><th scope=row>Louisiana</th><td>15.4</td><td>249 </td><td>66  </td><td>22.2</td></tr>\n",
       "\t<tr><th scope=row>Maine</th><td> 2.1</td><td> 83 </td><td>51  </td><td> 7.8</td></tr>\n",
       "\t<tr><th scope=row>Maryland</th><td>11.3</td><td>300 </td><td>67  </td><td>27.8</td></tr>\n",
       "\t<tr><th scope=row>Massachusetts</th><td> 4.4</td><td>149 </td><td>85  </td><td>16.3</td></tr>\n",
       "\t<tr><th scope=row>Michigan</th><td>12.1</td><td>255 </td><td>74  </td><td>35.1</td></tr>\n",
       "\t<tr><th scope=row>Minnesota</th><td> 2.7</td><td> 72 </td><td>66  </td><td>14.9</td></tr>\n",
       "\t<tr><th scope=row>Mississippi</th><td>16.1</td><td>259 </td><td>44  </td><td>17.1</td></tr>\n",
       "\t<tr><th scope=row>Missouri</th><td> 9.0</td><td>178 </td><td>70  </td><td>28.2</td></tr>\n",
       "\t<tr><th scope=row>Montana</th><td> 6.0</td><td>109 </td><td>53  </td><td>16.4</td></tr>\n",
       "\t<tr><th scope=row>Nebraska</th><td> 4.3</td><td>102 </td><td>62  </td><td>16.5</td></tr>\n",
       "\t<tr><th scope=row>Nevada</th><td>12.2</td><td>252 </td><td>81  </td><td>46.0</td></tr>\n",
       "\t<tr><th scope=row>New Hampshire</th><td> 2.1</td><td> 57 </td><td>56  </td><td> 9.5</td></tr>\n",
       "\t<tr><th scope=row>New Jersey</th><td> 7.4</td><td>159 </td><td>89  </td><td>18.8</td></tr>\n",
       "\t<tr><th scope=row>New Mexico</th><td>11.4</td><td>285 </td><td>70  </td><td>32.1</td></tr>\n",
       "\t<tr><th scope=row>New York</th><td>11.1</td><td>254 </td><td>86  </td><td>26.1</td></tr>\n",
       "\t<tr><th scope=row>North Carolina</th><td>13.0</td><td>337 </td><td>45  </td><td>16.1</td></tr>\n",
       "\t<tr><th scope=row>North Dakota</th><td> 0.8</td><td> 45 </td><td>44  </td><td> 7.3</td></tr>\n",
       "\t<tr><th scope=row>Ohio</th><td> 7.3</td><td>120 </td><td>75  </td><td>21.4</td></tr>\n",
       "\t<tr><th scope=row>Oklahoma</th><td> 6.6</td><td>151 </td><td>68  </td><td>20.0</td></tr>\n",
       "\t<tr><th scope=row>Oregon</th><td> 4.9</td><td>159 </td><td>67  </td><td>29.3</td></tr>\n",
       "\t<tr><th scope=row>Pennsylvania</th><td> 6.3</td><td>106 </td><td>72  </td><td>14.9</td></tr>\n",
       "\t<tr><th scope=row>Rhode Island</th><td> 3.4</td><td>174 </td><td>87  </td><td> 8.3</td></tr>\n",
       "\t<tr><th scope=row>South Carolina</th><td>14.4</td><td>279 </td><td>48  </td><td>22.5</td></tr>\n",
       "\t<tr><th scope=row>South Dakota</th><td> 3.8</td><td> 86 </td><td>45  </td><td>12.8</td></tr>\n",
       "\t<tr><th scope=row>Tennessee</th><td>13.2</td><td>188 </td><td>59  </td><td>26.9</td></tr>\n",
       "\t<tr><th scope=row>Texas</th><td>12.7</td><td>201 </td><td>80  </td><td>25.5</td></tr>\n",
       "\t<tr><th scope=row>Utah</th><td> 3.2</td><td>120 </td><td>80  </td><td>22.9</td></tr>\n",
       "\t<tr><th scope=row>Vermont</th><td> 2.2</td><td> 48 </td><td>32  </td><td>11.2</td></tr>\n",
       "\t<tr><th scope=row>Virginia</th><td> 8.5</td><td>156 </td><td>63  </td><td>20.7</td></tr>\n",
       "\t<tr><th scope=row>Washington</th><td> 4.0</td><td>145 </td><td>73  </td><td>26.2</td></tr>\n",
       "\t<tr><th scope=row>West Virginia</th><td> 5.7</td><td> 81 </td><td>39  </td><td> 9.3</td></tr>\n",
       "\t<tr><th scope=row>Wisconsin</th><td> 2.6</td><td> 53 </td><td>66  </td><td>10.8</td></tr>\n",
       "\t<tr><th scope=row>Wyoming</th><td> 6.8</td><td>161 </td><td>60  </td><td>15.6</td></tr>\n",
       "</tbody>\n",
       "</table>\n"
      ],
      "text/latex": [
       "\\begin{tabular}{r|llll}\n",
       "  & Murder & Assault & UrbanPop & Rape\\\\\n",
       "\\hline\n",
       "\tAlabama & 13.2 & 236  & 58   & 21.2\\\\\n",
       "\tAlaska & 10.0 & 263  & 48   & 44.5\\\\\n",
       "\tArizona &  8.1 & 294  & 80   & 31.0\\\\\n",
       "\tArkansas &  8.8 & 190  & 50   & 19.5\\\\\n",
       "\tCalifornia &  9.0 & 276  & 91   & 40.6\\\\\n",
       "\tColorado &  7.9 & 204  & 78   & 38.7\\\\\n",
       "\tConnecticut &  3.3 & 110  & 77   & 11.1\\\\\n",
       "\tDelaware &  5.9 & 238  & 72   & 15.8\\\\\n",
       "\tFlorida & 15.4 & 335  & 80   & 31.9\\\\\n",
       "\tGeorgia & 17.4 & 211  & 60   & 25.8\\\\\n",
       "\tHawaii &  5.3 &  46  & 83   & 20.2\\\\\n",
       "\tIdaho &  2.6 & 120  & 54   & 14.2\\\\\n",
       "\tIllinois & 10.4 & 249  & 83   & 24.0\\\\\n",
       "\tIndiana &  7.2 & 113  & 65   & 21.0\\\\\n",
       "\tIowa &  2.2 &  56  & 57   & 11.3\\\\\n",
       "\tKansas &  6.0 & 115  & 66   & 18.0\\\\\n",
       "\tKentucky &  9.7 & 109  & 52   & 16.3\\\\\n",
       "\tLouisiana & 15.4 & 249  & 66   & 22.2\\\\\n",
       "\tMaine &  2.1 &  83  & 51   &  7.8\\\\\n",
       "\tMaryland & 11.3 & 300  & 67   & 27.8\\\\\n",
       "\tMassachusetts &  4.4 & 149  & 85   & 16.3\\\\\n",
       "\tMichigan & 12.1 & 255  & 74   & 35.1\\\\\n",
       "\tMinnesota &  2.7 &  72  & 66   & 14.9\\\\\n",
       "\tMississippi & 16.1 & 259  & 44   & 17.1\\\\\n",
       "\tMissouri &  9.0 & 178  & 70   & 28.2\\\\\n",
       "\tMontana &  6.0 & 109  & 53   & 16.4\\\\\n",
       "\tNebraska &  4.3 & 102  & 62   & 16.5\\\\\n",
       "\tNevada & 12.2 & 252  & 81   & 46.0\\\\\n",
       "\tNew Hampshire &  2.1 &  57  & 56   &  9.5\\\\\n",
       "\tNew Jersey &  7.4 & 159  & 89   & 18.8\\\\\n",
       "\tNew Mexico & 11.4 & 285  & 70   & 32.1\\\\\n",
       "\tNew York & 11.1 & 254  & 86   & 26.1\\\\\n",
       "\tNorth Carolina & 13.0 & 337  & 45   & 16.1\\\\\n",
       "\tNorth Dakota &  0.8 &  45  & 44   &  7.3\\\\\n",
       "\tOhio &  7.3 & 120  & 75   & 21.4\\\\\n",
       "\tOklahoma &  6.6 & 151  & 68   & 20.0\\\\\n",
       "\tOregon &  4.9 & 159  & 67   & 29.3\\\\\n",
       "\tPennsylvania &  6.3 & 106  & 72   & 14.9\\\\\n",
       "\tRhode Island &  3.4 & 174  & 87   &  8.3\\\\\n",
       "\tSouth Carolina & 14.4 & 279  & 48   & 22.5\\\\\n",
       "\tSouth Dakota &  3.8 &  86  & 45   & 12.8\\\\\n",
       "\tTennessee & 13.2 & 188  & 59   & 26.9\\\\\n",
       "\tTexas & 12.7 & 201  & 80   & 25.5\\\\\n",
       "\tUtah &  3.2 & 120  & 80   & 22.9\\\\\n",
       "\tVermont &  2.2 &  48  & 32   & 11.2\\\\\n",
       "\tVirginia &  8.5 & 156  & 63   & 20.7\\\\\n",
       "\tWashington &  4.0 & 145  & 73   & 26.2\\\\\n",
       "\tWest Virginia &  5.7 &  81  & 39   &  9.3\\\\\n",
       "\tWisconsin &  2.6 &  53  & 66   & 10.8\\\\\n",
       "\tWyoming &  6.8 & 161  & 60   & 15.6\\\\\n",
       "\\end{tabular}\n"
      ],
      "text/markdown": [
       "\n",
       "| <!--/--> | Murder | Assault | UrbanPop | Rape | \n",
       "|---|---|---|---|---|---|---|---|---|---|---|---|---|---|---|---|---|---|---|---|---|---|---|---|---|---|---|---|---|---|---|---|---|---|---|---|---|---|---|---|---|---|---|---|---|---|---|---|---|---|\n",
       "| Alabama | 13.2 | 236  | 58   | 21.2 | \n",
       "| Alaska | 10.0 | 263  | 48   | 44.5 | \n",
       "| Arizona |  8.1 | 294  | 80   | 31.0 | \n",
       "| Arkansas |  8.8 | 190  | 50   | 19.5 | \n",
       "| California |  9.0 | 276  | 91   | 40.6 | \n",
       "| Colorado |  7.9 | 204  | 78   | 38.7 | \n",
       "| Connecticut |  3.3 | 110  | 77   | 11.1 | \n",
       "| Delaware |  5.9 | 238  | 72   | 15.8 | \n",
       "| Florida | 15.4 | 335  | 80   | 31.9 | \n",
       "| Georgia | 17.4 | 211  | 60   | 25.8 | \n",
       "| Hawaii |  5.3 |  46  | 83   | 20.2 | \n",
       "| Idaho |  2.6 | 120  | 54   | 14.2 | \n",
       "| Illinois | 10.4 | 249  | 83   | 24.0 | \n",
       "| Indiana |  7.2 | 113  | 65   | 21.0 | \n",
       "| Iowa |  2.2 |  56  | 57   | 11.3 | \n",
       "| Kansas |  6.0 | 115  | 66   | 18.0 | \n",
       "| Kentucky |  9.7 | 109  | 52   | 16.3 | \n",
       "| Louisiana | 15.4 | 249  | 66   | 22.2 | \n",
       "| Maine |  2.1 |  83  | 51   |  7.8 | \n",
       "| Maryland | 11.3 | 300  | 67   | 27.8 | \n",
       "| Massachusetts |  4.4 | 149  | 85   | 16.3 | \n",
       "| Michigan | 12.1 | 255  | 74   | 35.1 | \n",
       "| Minnesota |  2.7 |  72  | 66   | 14.9 | \n",
       "| Mississippi | 16.1 | 259  | 44   | 17.1 | \n",
       "| Missouri |  9.0 | 178  | 70   | 28.2 | \n",
       "| Montana |  6.0 | 109  | 53   | 16.4 | \n",
       "| Nebraska |  4.3 | 102  | 62   | 16.5 | \n",
       "| Nevada | 12.2 | 252  | 81   | 46.0 | \n",
       "| New Hampshire |  2.1 |  57  | 56   |  9.5 | \n",
       "| New Jersey |  7.4 | 159  | 89   | 18.8 | \n",
       "| New Mexico | 11.4 | 285  | 70   | 32.1 | \n",
       "| New York | 11.1 | 254  | 86   | 26.1 | \n",
       "| North Carolina | 13.0 | 337  | 45   | 16.1 | \n",
       "| North Dakota |  0.8 |  45  | 44   |  7.3 | \n",
       "| Ohio |  7.3 | 120  | 75   | 21.4 | \n",
       "| Oklahoma |  6.6 | 151  | 68   | 20.0 | \n",
       "| Oregon |  4.9 | 159  | 67   | 29.3 | \n",
       "| Pennsylvania |  6.3 | 106  | 72   | 14.9 | \n",
       "| Rhode Island |  3.4 | 174  | 87   |  8.3 | \n",
       "| South Carolina | 14.4 | 279  | 48   | 22.5 | \n",
       "| South Dakota |  3.8 |  86  | 45   | 12.8 | \n",
       "| Tennessee | 13.2 | 188  | 59   | 26.9 | \n",
       "| Texas | 12.7 | 201  | 80   | 25.5 | \n",
       "| Utah |  3.2 | 120  | 80   | 22.9 | \n",
       "| Vermont |  2.2 |  48  | 32   | 11.2 | \n",
       "| Virginia |  8.5 | 156  | 63   | 20.7 | \n",
       "| Washington |  4.0 | 145  | 73   | 26.2 | \n",
       "| West Virginia |  5.7 |  81  | 39   |  9.3 | \n",
       "| Wisconsin |  2.6 |  53  | 66   | 10.8 | \n",
       "| Wyoming |  6.8 | 161  | 60   | 15.6 | \n",
       "\n",
       "\n"
      ],
      "text/plain": [
       "               Murder Assault UrbanPop Rape\n",
       "Alabama        13.2   236     58       21.2\n",
       "Alaska         10.0   263     48       44.5\n",
       "Arizona         8.1   294     80       31.0\n",
       "Arkansas        8.8   190     50       19.5\n",
       "California      9.0   276     91       40.6\n",
       "Colorado        7.9   204     78       38.7\n",
       "Connecticut     3.3   110     77       11.1\n",
       "Delaware        5.9   238     72       15.8\n",
       "Florida        15.4   335     80       31.9\n",
       "Georgia        17.4   211     60       25.8\n",
       "Hawaii          5.3    46     83       20.2\n",
       "Idaho           2.6   120     54       14.2\n",
       "Illinois       10.4   249     83       24.0\n",
       "Indiana         7.2   113     65       21.0\n",
       "Iowa            2.2    56     57       11.3\n",
       "Kansas          6.0   115     66       18.0\n",
       "Kentucky        9.7   109     52       16.3\n",
       "Louisiana      15.4   249     66       22.2\n",
       "Maine           2.1    83     51        7.8\n",
       "Maryland       11.3   300     67       27.8\n",
       "Massachusetts   4.4   149     85       16.3\n",
       "Michigan       12.1   255     74       35.1\n",
       "Minnesota       2.7    72     66       14.9\n",
       "Mississippi    16.1   259     44       17.1\n",
       "Missouri        9.0   178     70       28.2\n",
       "Montana         6.0   109     53       16.4\n",
       "Nebraska        4.3   102     62       16.5\n",
       "Nevada         12.2   252     81       46.0\n",
       "New Hampshire   2.1    57     56        9.5\n",
       "New Jersey      7.4   159     89       18.8\n",
       "New Mexico     11.4   285     70       32.1\n",
       "New York       11.1   254     86       26.1\n",
       "North Carolina 13.0   337     45       16.1\n",
       "North Dakota    0.8    45     44        7.3\n",
       "Ohio            7.3   120     75       21.4\n",
       "Oklahoma        6.6   151     68       20.0\n",
       "Oregon          4.9   159     67       29.3\n",
       "Pennsylvania    6.3   106     72       14.9\n",
       "Rhode Island    3.4   174     87        8.3\n",
       "South Carolina 14.4   279     48       22.5\n",
       "South Dakota    3.8    86     45       12.8\n",
       "Tennessee      13.2   188     59       26.9\n",
       "Texas          12.7   201     80       25.5\n",
       "Utah            3.2   120     80       22.9\n",
       "Vermont         2.2    48     32       11.2\n",
       "Virginia        8.5   156     63       20.7\n",
       "Washington      4.0   145     73       26.2\n",
       "West Virginia   5.7    81     39        9.3\n",
       "Wisconsin       2.6    53     66       10.8\n",
       "Wyoming         6.8   161     60       15.6"
      ]
     },
     "metadata": {},
     "output_type": "display_data"
    }
   ],
   "source": [
    "crimeNaless <- na.omit(USArrests)\n",
    "crime <- data.matrix(crimeNaless)\n",
    "str(crime)\n",
    "crime"
   ]
  },
  {
   "cell_type": "markdown",
   "metadata": {},
   "source": [
    "will choose 5 as the number of cluster. The syntax is : kmeans( data, k) where k is the number of cluster centers."
   ]
  },
  {
   "cell_type": "code",
   "execution_count": 20,
   "metadata": {},
   "outputs": [
    {
     "data": {
      "text/html": [
       "'kmeans'"
      ],
      "text/latex": [
       "'kmeans'"
      ],
      "text/markdown": [
       "'kmeans'"
      ],
      "text/plain": [
       "[1] \"kmeans\""
      ]
     },
     "metadata": {},
     "output_type": "display_data"
    }
   ],
   "source": [
    "cluster <- kmeans(crime,5)\n",
    "class(cluster)"
   ]
  },
  {
   "cell_type": "markdown",
   "metadata": {},
   "source": [
    "let's analyse the clustering "
   ]
  },
  {
   "cell_type": "code",
   "execution_count": 21,
   "metadata": {},
   "outputs": [
    {
     "name": "stdout",
     "output_type": "stream",
     "text": [
      "List of 9\n",
      " $ cluster     : Named int [1:50] 3 5 5 3 5 3 2 3 5 3 ...\n",
      "  ..- attr(*, \"names\")= chr [1:50] \"Alabama\" \"Alaska\" \"Arizona\" \"Arkansas\" ...\n",
      " $ centers     : num [1:5, 1:4] 6.11 5.59 11.3 2.95 12.14 ...\n",
      "  ..- attr(*, \"dimnames\")=List of 2\n",
      "  .. ..$ : chr [1:5] \"1\" \"2\" \"3\" \"4\" ...\n",
      "  .. ..$ : chr [1:4] \"Murder\" \"Assault\" \"UrbanPop\" \"Rape\"\n",
      " $ totss       : num 355808\n",
      " $ withinss    : num [1:5] 2286 1480 3653 4548 16272\n",
      " $ tot.withinss: num 28240\n",
      " $ betweenss   : num 327568\n",
      " $ size        : int [1:5] 9 10 7 10 14\n",
      " $ iter        : int 2\n",
      " $ ifault      : int 0\n",
      " - attr(*, \"class\")= chr \"kmeans\"\n"
     ]
    }
   ],
   "source": [
    "str(cluster)"
   ]
  },
  {
   "cell_type": "markdown",
   "metadata": {},
   "source": [
    "The str() function gives the structure of the kmeans with the following parameters: withinss, betweenss, etc, analyzing which you can find out the performance of kmeans.\n",
    "\n",
    "betweenss : Between sum of squares for instance Intracluster similarity\n",
    "\n",
    "withinss : Within sum of square such as Intercluster similarity\n",
    "\n",
    "totwithinss : Sum of all the withinss of all the clusters : Total intra-cluster similarity \n",
    "\n",
    " Let see how we can find the optimal value of ‘k’."
   ]
  },
  {
   "cell_type": "code",
   "execution_count": 22,
   "metadata": {},
   "outputs": [],
   "source": [
    "# Dissortion : can be calculated in terms of withinss.\n",
    "# Lesser the value of ‘withinss’ of a particular cluster,\n",
    "# more densely populated it will be, thus minimum distortion.\n",
    "kmeans.wss.k <- function(crime, k){\n",
    " km = kmeans(crime, k)\n",
    " return (km$tot.withinss)\n",
    " }\n",
    "#This function takes up the data and the value of k and returns the ‘km$totwithinss’ for it"
   ]
  },
  {
   "cell_type": "code",
   "execution_count": 23,
   "metadata": {},
   "outputs": [
    {
     "data": {
      "text/html": [
       "28240.2316984127"
      ],
      "text/latex": [
       "28240.2316984127"
      ],
      "text/markdown": [
       "28240.2316984127"
      ],
      "text/plain": [
       "[1] 28240.23"
      ]
     },
     "metadata": {},
     "output_type": "display_data"
    }
   ],
   "source": [
    "kmeans.wss.k(crime,5) # what is the value of withinss for k=5"
   ]
  },
  {
   "cell_type": "code",
   "execution_count": 24,
   "metadata": {},
   "outputs": [
    {
     "data": {
      "text/html": [
       "11682.764"
      ],
      "text/latex": [
       "11682.764"
      ],
      "text/markdown": [
       "11682.764"
      ],
      "text/plain": [
       "[1] 11682.76"
      ]
     },
     "metadata": {},
     "output_type": "display_data"
    }
   ],
   "source": [
    "# lets increase k value. let go with 10\n",
    "kmeans.wss.k(crime,10)"
   ]
  },
  {
   "cell_type": "markdown",
   "metadata": {},
   "source": [
    "It can be seen that as the value of K increases, distortion decreases."
   ]
  },
  {
   "cell_type": "markdown",
   "metadata": {},
   "source": [
    "#We can take out the different values of ‘km$totwithinss’ and plot them in a graph to find the relationship \n",
    "#between distortion and the value of k. \n",
    "#The following function does that for us:\n",
    "kmeans.dis <- function(crime, maxk){\n",
    "dis=(nrow(crime)-1)*sum(apply(crime,2,var))\n",
    "dis[2:maxk]=sapply (2:maxk, kmeans.wss.k, crime=crime)\n",
    "return(dis)\n",
    " }\n",
    "maxk = 10\n",
    "dis = kmeans.dis(crime, maxk);\n",
    "plot(1:maxk, dis, type='b', xlab=\"Number of Clusters\",\n",
    " ylab=\"Distortion\",\n",
    " col=\"red\")"
   ]
  },
  {
   "cell_type": "markdown",
   "metadata": {},
   "source": [
    "Elbow Curve:\n",
    "This is the plot between ‘k’, the number of clusters and the ‘totwithinss’ (or distortion) for each value of k. With less cluster, there is a significant decrease in distortion too.\n",
    "This value of k(4) beyond which the distortion rate becomes constant is the optimal value."
   ]
  },
  {
   "cell_type": "code",
   "execution_count": 37,
   "metadata": {},
   "outputs": [
    {
     "data": {
      "text/html": [
       "<table>\n",
       "<thead><tr><th></th><th scope=col>Murder</th><th scope=col>Assault</th><th scope=col>UrbanPop</th><th scope=col>Rape</th></tr></thead>\n",
       "<tbody>\n",
       "\t<tr><th scope=row>1</th><td> 6.111111</td><td>159.1111 </td><td>73.55556 </td><td>20.37778 </td></tr>\n",
       "\t<tr><th scope=row>2</th><td> 5.590000</td><td>112.4000 </td><td>65.60000 </td><td>17.27000 </td></tr>\n",
       "\t<tr><th scope=row>3</th><td>11.300000</td><td>209.7143 </td><td>65.28571 </td><td>24.77143 </td></tr>\n",
       "\t<tr><th scope=row>4</th><td> 2.950000</td><td> 62.7000 </td><td>53.90000 </td><td>11.51000 </td></tr>\n",
       "\t<tr><th scope=row>5</th><td>12.135714</td><td>277.6429 </td><td>68.78571 </td><td>29.78571 </td></tr>\n",
       "</tbody>\n",
       "</table>\n"
      ],
      "text/latex": [
       "\\begin{tabular}{r|llll}\n",
       "  & Murder & Assault & UrbanPop & Rape\\\\\n",
       "\\hline\n",
       "\t1 &  6.111111 & 159.1111  & 73.55556  & 20.37778 \\\\\n",
       "\t2 &  5.590000 & 112.4000  & 65.60000  & 17.27000 \\\\\n",
       "\t3 & 11.300000 & 209.7143  & 65.28571  & 24.77143 \\\\\n",
       "\t4 &  2.950000 &  62.7000  & 53.90000  & 11.51000 \\\\\n",
       "\t5 & 12.135714 & 277.6429  & 68.78571  & 29.78571 \\\\\n",
       "\\end{tabular}\n"
      ],
      "text/markdown": [
       "\n",
       "| <!--/--> | Murder | Assault | UrbanPop | Rape | \n",
       "|---|---|---|---|---|\n",
       "| 1 |  6.111111 | 159.1111  | 73.55556  | 20.37778  | \n",
       "| 2 |  5.590000 | 112.4000  | 65.60000  | 17.27000  | \n",
       "| 3 | 11.300000 | 209.7143  | 65.28571  | 24.77143  | \n",
       "| 4 |  2.950000 |  62.7000  | 53.90000  | 11.51000  | \n",
       "| 5 | 12.135714 | 277.6429  | 68.78571  | 29.78571  | \n",
       "\n",
       "\n"
      ],
      "text/plain": [
       "  Murder    Assault  UrbanPop Rape    \n",
       "1  6.111111 159.1111 73.55556 20.37778\n",
       "2  5.590000 112.4000 65.60000 17.27000\n",
       "3 11.300000 209.7143 65.28571 24.77143\n",
       "4  2.950000  62.7000 53.90000 11.51000\n",
       "5 12.135714 277.6429 68.78571 29.78571"
      ]
     },
     "metadata": {},
     "output_type": "display_data"
    }
   ],
   "source": [
    "#It can be seen that the data is divided into 4 clusters. \n",
    "#The cluster centers are :\n",
    "look=cluster$centers\n",
    "look"
   ]
  },
  {
   "cell_type": "code",
   "execution_count": null,
   "metadata": {},
   "outputs": [],
   "source": [
    "Each state is assigned a cluster, depending on which we can now predict its crime ranking"
   ]
  }
 ],
 "metadata": {
  "kernelspec": {
   "display_name": "R",
   "language": "R",
   "name": "ir"
  },
  "language_info": {
   "codemirror_mode": "r",
   "file_extension": ".r",
   "mimetype": "text/x-r-source",
   "name": "R",
   "pygments_lexer": "r",
   "version": "3.5.1"
  }
 },
 "nbformat": 4,
 "nbformat_minor": 2
}
